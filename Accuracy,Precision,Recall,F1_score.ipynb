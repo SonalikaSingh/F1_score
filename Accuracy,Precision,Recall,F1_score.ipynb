{
  "nbformat": 4,
  "nbformat_minor": 0,
  "metadata": {
    "colab": {
      "name": "Accuracy,Precision,Recall,F1_score",
      "provenance": [],
      "authorship_tag": "ABX9TyMJFVEwn4r/tjj3+D9X0XT4",
      "include_colab_link": true
    },
    "kernelspec": {
      "name": "python3",
      "display_name": "Python 3"
    },
    "language_info": {
      "name": "python"
    }
  },
  "cells": [
    {
      "cell_type": "markdown",
      "metadata": {
        "id": "view-in-github",
        "colab_type": "text"
      },
      "source": [
        "<a href=\"https://colab.research.google.com/github/SonalikaSingh/F1_score/blob/main/Accuracy%2CPrecision%2CRecall%2CF1_score.ipynb\" target=\"_parent\"><img src=\"https://colab.research.google.com/assets/colab-badge.svg\" alt=\"Open In Colab\"/></a>"
      ]
    },
    {
      "cell_type": "code",
      "metadata": {
        "id": "A7F1uOqvmNQr"
      },
      "source": [
        "from matplotlib import pyplot as plt\n",
        "from sklearn.metrics import confusion_matrix , classification_report\n",
        "import pandas as pd\n",
        "import seaborn as sns"
      ],
      "execution_count": 9,
      "outputs": []
    },
    {
      "cell_type": "code",
      "metadata": {
        "id": "7f0-XPkgnnqn"
      },
      "source": [
        "def print_confusion_matrix(confusion_matrix, class_names, figsize = (10,7), fontsize=14):\n",
        "   \n",
        "    df_cm = pd.DataFrame(\n",
        "        confusion_matrix, index=class_names, columns=class_names, \n",
        "    )\n",
        "    fig = plt.figure(figsize=figsize)\n",
        "    try:\n",
        "        heatmap = sns.heatmap(df_cm, annot=True, fmt=\"d\")\n",
        "    except ValueError:\n",
        "        raise ValueError(\"Confusion matrix values must be integers.\")\n",
        "    heatmap.yaxis.set_ticklabels(heatmap.yaxis.get_ticklabels(), rotation=0, ha='right', fontsize=fontsize)\n",
        "    heatmap.xaxis.set_ticklabels(heatmap.xaxis.get_ticklabels(), rotation=45, ha='right', fontsize=fontsize)\n",
        "    plt.ylabel('Truth')\n",
        "    plt.xlabel('Prediction')"
      ],
      "execution_count": 10,
      "outputs": []
    },
    {
      "cell_type": "code",
      "metadata": {
        "id": "dqgojuOnn1IO"
      },
      "source": [
        "truth =      [\"cat\",\"Not a cat\",\"cat\",\"cat\", \"Not a cat\", \"Not a cat\", \"cat\",\"cat\"]\n",
        "prediction = [\"cat\",\"cat\",\"cat\",\"Not a cat\",\"cat\",\"Not a cat\",\"cat\",\"Not a cat\"]"
      ],
      "execution_count": 11,
      "outputs": []
    },
    {
      "cell_type": "code",
      "metadata": {
        "colab": {
          "base_uri": "https://localhost:8080/",
          "height": 491
        },
        "id": "NiipTbtnooBM",
        "outputId": "e7781fe6-2e2d-48db-e03a-5cc99178d941"
      },
      "source": [
        "cm = confusion_matrix(truth,prediction)\n",
        "print_confusion_matrix(cm,[\"cat\",\"Not a cat\"])"
      ],
      "execution_count": 12,
      "outputs": [
        {
          "output_type": "display_data",
          "data": {
            "image/png": "[encoded data removed]",
            "text/plain": [
              "<Figure size 720x504 with 2 Axes>"
            ]
          },
          "metadata": {
            "tags": [],
            "needs_background": "light"
          }
        }
      ]
    },
    {
      "cell_type": "code",
      "metadata": {
        "colab": {
          "base_uri": "https://localhost:8080/"
        },
        "id": "VwGmUI10ouAb",
        "outputId": "32636b08-e8ae-4644-e8d8-116cbea8d9ca"
      },
      "source": [
        "print(classification_report(truth, prediction))"
      ],
      "execution_count": 13,
      "outputs": [
        {
          "output_type": "stream",
          "text": [
            "              precision    recall  f1-score   support\n",
            "\n",
            "   Not a cat       0.33      0.33      0.33         3\n",
            "         cat       0.60      0.60      0.60         5\n",
            "\n",
            "    accuracy                           0.50         8\n",
            "   macro avg       0.47      0.47      0.47         8\n",
            "weighted avg       0.50      0.50      0.50         8\n",
            "\n"
          ],
          "name": "stdout"
        }
      ]
    }
  ]
}